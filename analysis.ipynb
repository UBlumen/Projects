{
 "cells": [
  {
   "cell_type": "code",
   "execution_count": 4,
   "id": "65537540-76b4-4166-8cf1-6b11be64fb7a",
   "metadata": {},
   "outputs": [],
   "source": [
    "import numpy as np\n",
    "from matplotlib import pyplot as plt\n",
    "\n",
    "with open(\"datafile.csv\") as file_name:\n",
    "    dataarray = np.loadtxt(file_name, delimiter=\",\", skiprows=1)\n",
    "\n",
    "    \n",
    "mlist = []"
   ]
  },
  {
   "cell_type": "code",
   "execution_count": null,
   "id": "09c3037c-a5fe-40d7-8c98-cd7e695589c6",
   "metadata": {},
   "outputs": [],
   "source": [
    "for line in dataarray:\n",
    "    # Calculate the invariant mass (in GeV) of the first two light jets:\n",
    "    m12 = np.sqrt((line[13]+line[17])**2 - (line[14]+line[18])**2 - (line[15]+line[19])**2 - (line[16]+line[20])**2)/1000\n",
    "    # Example for a code that selects pairs of jets which fulfill a condition and appends them to a list\n",
    "    if abs(m12)<150:\n",
    "            mlist.append(m12)\n",
    "\n",
    "mean = np.mean(mlist)\n",
    "print('Mean: ', mean)"
   ]
  },
  {
   "cell_type": "code",
   "execution_count": null,
   "id": "f0448995-f54d-4786-a73b-9e3fcb78241d",
   "metadata": {},
   "outputs": [],
   "source": [
    "plt.hist(mlist, bins=20, range=(40,120), label=\"m(j1j2) [GeV]\") \n",
    "plt.xlabel(\"m(j1j2) [GeV]\")\n",
    "plt.savefig('Mj1j2.png')\n",
    "plt.show()"
   ]
  }
 ],
 "metadata": {
  "kernelspec": {
   "display_name": "Python 3 (ipykernel)",
   "language": "python",
   "name": "python3"
  },
  "language_info": {
   "codemirror_mode": {
    "name": "ipython",
    "version": 3
   },
   "file_extension": ".py",
   "mimetype": "text/x-python",
   "name": "python",
   "nbconvert_exporter": "python",
   "pygments_lexer": "ipython3",
   "version": "3.11.7"
  }
 },
 "nbformat": 4,
 "nbformat_minor": 5
}
